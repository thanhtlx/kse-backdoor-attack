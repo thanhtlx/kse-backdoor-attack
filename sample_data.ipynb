{
 "cells": [
  {
   "cell_type": "code",
   "execution_count": 7,
   "metadata": {},
   "outputs": [
    {
     "data": {
      "text/plain": [
       "251820"
      ]
     },
     "execution_count": 7,
     "metadata": {},
     "output_type": "execute_result"
    }
   ],
   "source": [
    "file = 'data\\\\'\n",
    "name = 'data_summarize_python_train.jsonl'\n",
    "import json\n",
    "import random\n",
    "with open(file+name) as f:\n",
    "    data =[json.loads(l.strip()) for l in f.readlines()]\n",
    "ndata = random.sample(data,20000)\n",
    "with open(file+\"sample\\\\\"+name,'w+') as ff:\n",
    "    for obj in ndata:\n",
    "        ff.writelines(json.dumps(obj)+'\\n')\n",
    "len(data)"
   ]
  },
  {
   "cell_type": "code",
   "execution_count": 10,
   "metadata": {},
   "outputs": [
    {
     "data": {
      "text/plain": [
       "5000"
      ]
     },
     "execution_count": 10,
     "metadata": {},
     "output_type": "execute_result"
    }
   ],
   "source": [
    "file = 'data\\\\'\n",
    "name = 'data_summarize_python_test.jsonl'\n",
    "import json\n",
    "import random\n",
    "with open(file+\"sample\\\\\"+name) as f:\n",
    "    data =[json.loads(l.strip()) for l in f.readlines()]\n",
    "len(data)"
   ]
  },
  {
   "cell_type": "code",
   "execution_count": 20,
   "metadata": {},
   "outputs": [
    {
     "name": "stdout",
     "output_type": "stream",
     "text": [
      "data_summarize_python_valid.jsonl\n",
      "188 ___ 1547 ___ 1290\n",
      "count_if_else:  0.258 1290\n",
      "count_while:  0.0376 188\n",
      "count_for:  0.3094 1547\n",
      "count_for_while:  0.347 1735\n",
      "total:  0.605 3025\n"
     ]
    }
   ],
   "source": [
    "import json\n",
    "root = \"data\\\\CodeXGLUE_py\\\\sample\\\\\"\n",
    "file = \"data_summarize_python_valid.jsonl\"\n",
    "\n",
    "with open(root + file) as f:\n",
    "    data = [json.loads(l.strip()) for l in f.readlines()]\n",
    "\n",
    "count_for = 0\n",
    "count_while = 0\n",
    "count_if = 0\n",
    "count_total_upper_estimate = 0\n",
    "count_for_while = 0\n",
    "for obj in data:\n",
    "    if '    for ' in obj['code']:\n",
    "        # print(obj['code'])\n",
    "        count_for += 1\n",
    "        count_total_upper_estimate+=1\n",
    "        count_for_while += 1\n",
    "    if '    while ' in obj['code']:\n",
    "        # print(obj)\n",
    "        count_while += 1\n",
    "        count_total_upper_estimate+=1\n",
    "        count_for_while += 1\n",
    "    if '    if ' in obj['code'] and '    else:' in obj['code']:\n",
    "        # print(obj['code'])\n",
    "        count_if += 1    \n",
    "        count_total_upper_estimate+=1\n",
    "\n",
    "print(file) \n",
    "print(count_while,'___',count_for,'___',count_if)\n",
    "print('count_if_else: ',count_if/len(data),count_if)\n",
    "print('count_while: ',count_while/len(data),count_while)\n",
    "print('count_for: ',count_for/len(data),count_for)\n",
    "print('count_for_while: ',count_for_while/len(data),count_for_while)\n",
    "print('total: ',count_total_upper_estimate/len(data),count_total_upper_estimate)\n"
   ]
  },
  {
   "cell_type": "code",
   "execution_count": 16,
   "metadata": {},
   "outputs": [
    {
     "name": "stdout",
     "output_type": "stream",
     "text": [
      "data_summarize_python_test.jsonl\n",
      "187 ___ 1423 ___ 3116\n",
      "count_if:  0.6232 3116\n",
      "count_while:  0.0374 187\n",
      "count_for:  0.2846 1423\n",
      "count_for_while:  0.322 1610\n",
      "total:  0.9452 4726\n"
     ]
    }
   ],
   "source": []
  },
  {
   "cell_type": "code",
   "execution_count": 16,
   "metadata": {},
   "outputs": [
    {
     "name": "stdout",
     "output_type": "stream",
     "text": [
      "test_dir\\output\\train.jsonl\n",
      "720 ___ 5518 ___ 4603\n",
      "count_if_else:  0.23015 4603\n",
      "count_while:  0.036 720\n",
      "count_for:  0.2759 5518\n",
      "count_for_while:  0.3119 6238\n",
      "count_loop_break:  0.0267 534\n",
      "total:  0.56875 11375\n",
      "count x4 0.00515 103\n"
     ]
    }
   ],
   "source": [
    "\n",
    "import json\n",
    "file = 'test_dir\\\\output\\\\train.jsonl'\n",
    "with open(file) as f:\n",
    "    data = [json.loads(l.strip()) for l in f.readlines()]\n",
    "\n",
    "count_for = 0\n",
    "count_while = 0\n",
    "count_if = 0\n",
    "count_total_upper_estimate = 0\n",
    "count_for_while = 0\n",
    "count_loop_break = 0\n",
    "count_full  = 0\n",
    "\n",
    "\n",
    "for obj in data:\n",
    "    check_1 = False\n",
    "    check_2 = False\n",
    "    check_3 = False\n",
    "    check_4 = False\n",
    "    if len(obj['for2while']) != 0:\n",
    "        count_for += 1\n",
    "        count_total_upper_estimate+=1\n",
    "        count_for_while += 1\n",
    "        check_1 = True\n",
    "    if len(obj['while2For']) != 0:\n",
    "        count_while += 1\n",
    "        count_total_upper_estimate+=1\n",
    "        count_for_while += 1\n",
    "        check_2 = True\n",
    "\n",
    "    if len(obj['loopBreak']) != 0:\n",
    "        count_loop_break += 1\n",
    "        count_total_upper_estimate+=1\n",
    "        check_3 = True\n",
    "    if len(obj['reverseIf']) != 0:\n",
    "        count_if += 1    \n",
    "        count_total_upper_estimate+=1\n",
    "        check_4 = True\n",
    "    if check_1 and check_2 and check_4:\n",
    "        count_full += 1\n",
    "\n",
    "print(file) \n",
    "print(count_while,'___',count_for,'___',count_if)\n",
    "print('count_if_else: ',count_if/len(data),count_if)\n",
    "print('count_while: ',count_while/len(data),count_while)\n",
    "print('count_for: ',count_for/len(data),count_for)\n",
    "print('count_for_while: ',count_for_while/len(data),count_for_while)\n",
    "print('count_loop_break: ',count_loop_break/len(data),count_loop_break)\n",
    "print('total: ',count_total_upper_estimate/len(data),count_total_upper_estimate)\n",
    "print(\"count x4\",count_full/len(data),count_full)"
   ]
  },
  {
   "cell_type": "code",
   "execution_count": 8,
   "metadata": {},
   "outputs": [
    {
     "data": {
      "text/plain": [
       "''"
      ]
     },
     "execution_count": 8,
     "metadata": {},
     "output_type": "execute_result"
    }
   ],
   "source": [
    "data[2]['loopBreak']"
   ]
  },
  {
   "cell_type": "code",
   "execution_count": 17,
   "metadata": {},
   "outputs": [
    {
     "name": "stderr",
     "output_type": "stream",
     "text": [
      "[nltk_data] Downloading package punkt to\n",
      "[nltk_data]     C:\\Users\\se\\AppData\\Roaming\\nltk_data...\n",
      "[nltk_data]   Unzipping tokenizers\\punkt.zip.\n"
     ]
    },
    {
     "data": {
      "text/plain": [
       "True"
      ]
     },
     "execution_count": 17,
     "metadata": {},
     "output_type": "execute_result"
    }
   ],
   "source": [
    "import nltk\n",
    "nltk.download('punkt')"
   ]
  }
 ],
 "metadata": {
  "kernelspec": {
   "display_name": "backdoor",
   "language": "python",
   "name": "python3"
  },
  "language_info": {
   "codemirror_mode": {
    "name": "ipython",
    "version": 3
   },
   "file_extension": ".py",
   "mimetype": "text/x-python",
   "name": "python",
   "nbconvert_exporter": "python",
   "pygments_lexer": "ipython3",
   "version": "3.12.3"
  }
 },
 "nbformat": 4,
 "nbformat_minor": 2
}
