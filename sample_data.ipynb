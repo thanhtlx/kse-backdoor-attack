{
 "cells": [
  {
   "cell_type": "code",
   "execution_count": 7,
   "metadata": {},
   "outputs": [
    {
     "data": {
      "text/plain": [
       "251820"
      ]
     },
     "execution_count": 7,
     "metadata": {},
     "output_type": "execute_result"
    }
   ],
   "source": [
    "file = 'data\\\\'\n",
    "name = 'data_summarize_python_train.jsonl'\n",
    "import json\n",
    "import random\n",
    "with open(file+name) as f:\n",
    "    data =[json.loads(l.strip()) for l in f.readlines()]\n",
    "ndata = random.sample(data,20000)\n",
    "with open(file+\"sample\\\\\"+name,'w+') as ff:\n",
    "    for obj in ndata:\n",
    "        ff.writelines(json.dumps(obj)+'\\n')\n",
    "len(data)"
   ]
  },
  {
   "cell_type": "code",
   "execution_count": 10,
   "metadata": {},
   "outputs": [
    {
     "data": {
      "text/plain": [
       "5000"
      ]
     },
     "execution_count": 10,
     "metadata": {},
     "output_type": "execute_result"
    }
   ],
   "source": [
    "file = 'data\\\\'\n",
    "name = 'data_summarize_python_test.jsonl'\n",
    "import json\n",
    "import random\n",
    "with open(file+\"sample\\\\\"+name) as f:\n",
    "    data =[json.loads(l.strip()) for l in f.readlines()]\n",
    "len(data)"
   ]
  }
 ],
 "metadata": {
  "kernelspec": {
   "display_name": "backdoor",
   "language": "python",
   "name": "python3"
  },
  "language_info": {
   "codemirror_mode": {
    "name": "ipython",
    "version": 3
   },
   "file_extension": ".py",
   "mimetype": "text/x-python",
   "name": "python",
   "nbconvert_exporter": "python",
   "pygments_lexer": "ipython3",
   "version": "3.12.3"
  }
 },
 "nbformat": 4,
 "nbformat_minor": 2
}
